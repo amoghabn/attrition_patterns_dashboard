{
 "cells": [
  {
   "cell_type": "code",
   "execution_count": 8,
   "id": "cf108947",
   "metadata": {},
   "outputs": [],
   "source": [
    "import pandas as pd\n",
    "import numpy as np\n",
    "import seaborn as sns\n",
    "import matplotlib.pyplot as plt"
   ]
  },
  {
   "cell_type": "code",
   "execution_count": 86,
   "id": "6d7b242d",
   "metadata": {},
   "outputs": [],
   "source": [
    "df=pd.read_csv('AttritionPatterns.csv')"
   ]
  },
  {
   "cell_type": "code",
   "execution_count": 87,
   "id": "2b5724a4",
   "metadata": {},
   "outputs": [
    {
     "data": {
      "text/html": [
       "<div>\n",
       "<style scoped>\n",
       "    .dataframe tbody tr th:only-of-type {\n",
       "        vertical-align: middle;\n",
       "    }\n",
       "\n",
       "    .dataframe tbody tr th {\n",
       "        vertical-align: top;\n",
       "    }\n",
       "\n",
       "    .dataframe thead th {\n",
       "        text-align: right;\n",
       "    }\n",
       "</style>\n",
       "<table border=\"1\" class=\"dataframe\">\n",
       "  <thead>\n",
       "    <tr style=\"text-align: right;\">\n",
       "      <th></th>\n",
       "      <th>EmpID</th>\n",
       "      <th>Age</th>\n",
       "      <th>AgeGroup</th>\n",
       "      <th>Attrition</th>\n",
       "      <th>BusinessTravel</th>\n",
       "      <th>DailyRate</th>\n",
       "      <th>Department</th>\n",
       "      <th>DistanceFromHome</th>\n",
       "      <th>Education</th>\n",
       "      <th>EducationField</th>\n",
       "      <th>...</th>\n",
       "      <th>PerformanceRating</th>\n",
       "      <th>RelationshipSatisfaction</th>\n",
       "      <th>StandardHours</th>\n",
       "      <th>StockOptionLevel</th>\n",
       "      <th>TotalWorkingYears</th>\n",
       "      <th>TrainingTimesLastYear</th>\n",
       "      <th>WorkLifeBalance</th>\n",
       "      <th>YearsAtCompany</th>\n",
       "      <th>YearsInCurrentRole</th>\n",
       "      <th>YearsSinceLastPromotion</th>\n",
       "    </tr>\n",
       "  </thead>\n",
       "  <tbody>\n",
       "    <tr>\n",
       "      <th>0</th>\n",
       "      <td>RM297</td>\n",
       "      <td>18</td>\n",
       "      <td>18-25</td>\n",
       "      <td>Yes</td>\n",
       "      <td>Travel_Rarely</td>\n",
       "      <td>230</td>\n",
       "      <td>Research &amp; Development</td>\n",
       "      <td>3</td>\n",
       "      <td>3</td>\n",
       "      <td>Life Sciences</td>\n",
       "      <td>...</td>\n",
       "      <td>3</td>\n",
       "      <td>3</td>\n",
       "      <td>80</td>\n",
       "      <td>0</td>\n",
       "      <td>0</td>\n",
       "      <td>2</td>\n",
       "      <td>3</td>\n",
       "      <td>0</td>\n",
       "      <td>0</td>\n",
       "      <td>0</td>\n",
       "    </tr>\n",
       "    <tr>\n",
       "      <th>1</th>\n",
       "      <td>RM302</td>\n",
       "      <td>18</td>\n",
       "      <td>18-25</td>\n",
       "      <td>No</td>\n",
       "      <td>Travel_Rarely</td>\n",
       "      <td>812</td>\n",
       "      <td>Sales</td>\n",
       "      <td>10</td>\n",
       "      <td>3</td>\n",
       "      <td>Medical</td>\n",
       "      <td>...</td>\n",
       "      <td>3</td>\n",
       "      <td>1</td>\n",
       "      <td>80</td>\n",
       "      <td>0</td>\n",
       "      <td>0</td>\n",
       "      <td>2</td>\n",
       "      <td>3</td>\n",
       "      <td>0</td>\n",
       "      <td>0</td>\n",
       "      <td>0</td>\n",
       "    </tr>\n",
       "    <tr>\n",
       "      <th>2</th>\n",
       "      <td>RM458</td>\n",
       "      <td>18</td>\n",
       "      <td>18-25</td>\n",
       "      <td>Yes</td>\n",
       "      <td>Travel_Frequently</td>\n",
       "      <td>1306</td>\n",
       "      <td>Sales</td>\n",
       "      <td>5</td>\n",
       "      <td>3</td>\n",
       "      <td>Marketing</td>\n",
       "      <td>...</td>\n",
       "      <td>3</td>\n",
       "      <td>4</td>\n",
       "      <td>80</td>\n",
       "      <td>0</td>\n",
       "      <td>0</td>\n",
       "      <td>3</td>\n",
       "      <td>3</td>\n",
       "      <td>0</td>\n",
       "      <td>0</td>\n",
       "      <td>0</td>\n",
       "    </tr>\n",
       "    <tr>\n",
       "      <th>3</th>\n",
       "      <td>RM728</td>\n",
       "      <td>18</td>\n",
       "      <td>18-25</td>\n",
       "      <td>No</td>\n",
       "      <td>Non-Travel</td>\n",
       "      <td>287</td>\n",
       "      <td>Research &amp; Development</td>\n",
       "      <td>5</td>\n",
       "      <td>2</td>\n",
       "      <td>Life Sciences</td>\n",
       "      <td>...</td>\n",
       "      <td>3</td>\n",
       "      <td>4</td>\n",
       "      <td>80</td>\n",
       "      <td>0</td>\n",
       "      <td>0</td>\n",
       "      <td>2</td>\n",
       "      <td>3</td>\n",
       "      <td>0</td>\n",
       "      <td>0</td>\n",
       "      <td>0</td>\n",
       "    </tr>\n",
       "    <tr>\n",
       "      <th>4</th>\n",
       "      <td>RM829</td>\n",
       "      <td>18</td>\n",
       "      <td>18-25</td>\n",
       "      <td>Yes</td>\n",
       "      <td>Non-Travel</td>\n",
       "      <td>247</td>\n",
       "      <td>Research &amp; Development</td>\n",
       "      <td>8</td>\n",
       "      <td>1</td>\n",
       "      <td>Medical</td>\n",
       "      <td>...</td>\n",
       "      <td>3</td>\n",
       "      <td>4</td>\n",
       "      <td>80</td>\n",
       "      <td>0</td>\n",
       "      <td>0</td>\n",
       "      <td>0</td>\n",
       "      <td>3</td>\n",
       "      <td>0</td>\n",
       "      <td>0</td>\n",
       "      <td>0</td>\n",
       "    </tr>\n",
       "  </tbody>\n",
       "</table>\n",
       "<p>5 rows × 37 columns</p>\n",
       "</div>"
      ],
      "text/plain": [
       "   EmpID  Age AgeGroup Attrition     BusinessTravel  DailyRate   \n",
       "0  RM297   18    18-25       Yes      Travel_Rarely        230  \\\n",
       "1  RM302   18    18-25        No      Travel_Rarely        812   \n",
       "2  RM458   18    18-25       Yes  Travel_Frequently       1306   \n",
       "3  RM728   18    18-25        No         Non-Travel        287   \n",
       "4  RM829   18    18-25       Yes         Non-Travel        247   \n",
       "\n",
       "               Department  DistanceFromHome  Education EducationField  ...   \n",
       "0  Research & Development                 3          3  Life Sciences  ...  \\\n",
       "1                   Sales                10          3        Medical  ...   \n",
       "2                   Sales                 5          3      Marketing  ...   \n",
       "3  Research & Development                 5          2  Life Sciences  ...   \n",
       "4  Research & Development                 8          1        Medical  ...   \n",
       "\n",
       "   PerformanceRating  RelationshipSatisfaction  StandardHours   \n",
       "0                  3                         3             80  \\\n",
       "1                  3                         1             80   \n",
       "2                  3                         4             80   \n",
       "3                  3                         4             80   \n",
       "4                  3                         4             80   \n",
       "\n",
       "  StockOptionLevel  TotalWorkingYears  TrainingTimesLastYear  WorkLifeBalance   \n",
       "0                0                  0                      2                3  \\\n",
       "1                0                  0                      2                3   \n",
       "2                0                  0                      3                3   \n",
       "3                0                  0                      2                3   \n",
       "4                0                  0                      0                3   \n",
       "\n",
       "  YearsAtCompany  YearsInCurrentRole YearsSinceLastPromotion  \n",
       "0              0                   0                       0  \n",
       "1              0                   0                       0  \n",
       "2              0                   0                       0  \n",
       "3              0                   0                       0  \n",
       "4              0                   0                       0  \n",
       "\n",
       "[5 rows x 37 columns]"
      ]
     },
     "execution_count": 87,
     "metadata": {},
     "output_type": "execute_result"
    }
   ],
   "source": [
    "df.head()"
   ]
  },
  {
   "cell_type": "code",
   "execution_count": 88,
   "id": "020172fc",
   "metadata": {},
   "outputs": [
    {
     "data": {
      "text/plain": [
       "1480"
      ]
     },
     "execution_count": 88,
     "metadata": {},
     "output_type": "execute_result"
    }
   ],
   "source": [
    "len(df)"
   ]
  },
  {
   "cell_type": "code",
   "execution_count": 89,
   "id": "37783602",
   "metadata": {},
   "outputs": [],
   "source": [
    "duplicates = df[df.duplicated()]"
   ]
  },
  {
   "cell_type": "code",
   "execution_count": 90,
   "id": "abd6556a",
   "metadata": {},
   "outputs": [
    {
     "data": {
      "text/html": [
       "<div>\n",
       "<style scoped>\n",
       "    .dataframe tbody tr th:only-of-type {\n",
       "        vertical-align: middle;\n",
       "    }\n",
       "\n",
       "    .dataframe tbody tr th {\n",
       "        vertical-align: top;\n",
       "    }\n",
       "\n",
       "    .dataframe thead th {\n",
       "        text-align: right;\n",
       "    }\n",
       "</style>\n",
       "<table border=\"1\" class=\"dataframe\">\n",
       "  <thead>\n",
       "    <tr style=\"text-align: right;\">\n",
       "      <th></th>\n",
       "      <th>EmpID</th>\n",
       "      <th>Age</th>\n",
       "      <th>AgeGroup</th>\n",
       "      <th>Attrition</th>\n",
       "      <th>BusinessTravel</th>\n",
       "      <th>DailyRate</th>\n",
       "      <th>Department</th>\n",
       "      <th>DistanceFromHome</th>\n",
       "      <th>Education</th>\n",
       "      <th>EducationField</th>\n",
       "      <th>...</th>\n",
       "      <th>PerformanceRating</th>\n",
       "      <th>RelationshipSatisfaction</th>\n",
       "      <th>StandardHours</th>\n",
       "      <th>StockOptionLevel</th>\n",
       "      <th>TotalWorkingYears</th>\n",
       "      <th>TrainingTimesLastYear</th>\n",
       "      <th>WorkLifeBalance</th>\n",
       "      <th>YearsAtCompany</th>\n",
       "      <th>YearsInCurrentRole</th>\n",
       "      <th>YearsSinceLastPromotion</th>\n",
       "    </tr>\n",
       "  </thead>\n",
       "  <tbody>\n",
       "    <tr>\n",
       "      <th>162</th>\n",
       "      <td>RM1465</td>\n",
       "      <td>26</td>\n",
       "      <td>26-35</td>\n",
       "      <td>No</td>\n",
       "      <td>Travel_Rarely</td>\n",
       "      <td>1167</td>\n",
       "      <td>Sales</td>\n",
       "      <td>5</td>\n",
       "      <td>3</td>\n",
       "      <td>Other</td>\n",
       "      <td>...</td>\n",
       "      <td>3</td>\n",
       "      <td>4</td>\n",
       "      <td>80</td>\n",
       "      <td>0</td>\n",
       "      <td>5</td>\n",
       "      <td>2</td>\n",
       "      <td>3</td>\n",
       "      <td>4</td>\n",
       "      <td>2</td>\n",
       "      <td>0</td>\n",
       "    </tr>\n",
       "    <tr>\n",
       "      <th>211</th>\n",
       "      <td>RM1468</td>\n",
       "      <td>27</td>\n",
       "      <td>26-35</td>\n",
       "      <td>No</td>\n",
       "      <td>Travel_Rarely</td>\n",
       "      <td>155</td>\n",
       "      <td>Research &amp; Development</td>\n",
       "      <td>4</td>\n",
       "      <td>3</td>\n",
       "      <td>Life Sciences</td>\n",
       "      <td>...</td>\n",
       "      <td>4</td>\n",
       "      <td>2</td>\n",
       "      <td>80</td>\n",
       "      <td>1</td>\n",
       "      <td>6</td>\n",
       "      <td>0</td>\n",
       "      <td>3</td>\n",
       "      <td>6</td>\n",
       "      <td>2</td>\n",
       "      <td>0</td>\n",
       "    </tr>\n",
       "    <tr>\n",
       "      <th>328</th>\n",
       "      <td>RM1461</td>\n",
       "      <td>29</td>\n",
       "      <td>26-35</td>\n",
       "      <td>No</td>\n",
       "      <td>Travel_Rarely</td>\n",
       "      <td>468</td>\n",
       "      <td>Research &amp; Development</td>\n",
       "      <td>28</td>\n",
       "      <td>4</td>\n",
       "      <td>Medical</td>\n",
       "      <td>...</td>\n",
       "      <td>3</td>\n",
       "      <td>2</td>\n",
       "      <td>80</td>\n",
       "      <td>0</td>\n",
       "      <td>5</td>\n",
       "      <td>3</td>\n",
       "      <td>1</td>\n",
       "      <td>5</td>\n",
       "      <td>4</td>\n",
       "      <td>0</td>\n",
       "    </tr>\n",
       "    <tr>\n",
       "      <th>458</th>\n",
       "      <td>RM1464</td>\n",
       "      <td>31</td>\n",
       "      <td>26-35</td>\n",
       "      <td>No</td>\n",
       "      <td>Non-Travel</td>\n",
       "      <td>325</td>\n",
       "      <td>Research &amp; Development</td>\n",
       "      <td>5</td>\n",
       "      <td>3</td>\n",
       "      <td>Medical</td>\n",
       "      <td>...</td>\n",
       "      <td>3</td>\n",
       "      <td>2</td>\n",
       "      <td>80</td>\n",
       "      <td>0</td>\n",
       "      <td>10</td>\n",
       "      <td>2</td>\n",
       "      <td>3</td>\n",
       "      <td>9</td>\n",
       "      <td>4</td>\n",
       "      <td>1</td>\n",
       "    </tr>\n",
       "    <tr>\n",
       "      <th>655</th>\n",
       "      <td>RM1470</td>\n",
       "      <td>34</td>\n",
       "      <td>26-35</td>\n",
       "      <td>No</td>\n",
       "      <td>TravelRarely</td>\n",
       "      <td>628</td>\n",
       "      <td>Research &amp; Development</td>\n",
       "      <td>8</td>\n",
       "      <td>3</td>\n",
       "      <td>Medical</td>\n",
       "      <td>...</td>\n",
       "      <td>3</td>\n",
       "      <td>1</td>\n",
       "      <td>80</td>\n",
       "      <td>0</td>\n",
       "      <td>6</td>\n",
       "      <td>3</td>\n",
       "      <td>4</td>\n",
       "      <td>4</td>\n",
       "      <td>3</td>\n",
       "      <td>1</td>\n",
       "    </tr>\n",
       "  </tbody>\n",
       "</table>\n",
       "<p>5 rows × 37 columns</p>\n",
       "</div>"
      ],
      "text/plain": [
       "      EmpID  Age AgeGroup Attrition BusinessTravel  DailyRate   \n",
       "162  RM1465   26    26-35        No  Travel_Rarely       1167  \\\n",
       "211  RM1468   27    26-35        No  Travel_Rarely        155   \n",
       "328  RM1461   29    26-35        No  Travel_Rarely        468   \n",
       "458  RM1464   31    26-35        No     Non-Travel        325   \n",
       "655  RM1470   34    26-35        No   TravelRarely        628   \n",
       "\n",
       "                 Department  DistanceFromHome  Education EducationField  ...   \n",
       "162                   Sales                 5          3          Other  ...  \\\n",
       "211  Research & Development                 4          3  Life Sciences  ...   \n",
       "328  Research & Development                28          4        Medical  ...   \n",
       "458  Research & Development                 5          3        Medical  ...   \n",
       "655  Research & Development                 8          3        Medical  ...   \n",
       "\n",
       "     PerformanceRating  RelationshipSatisfaction  StandardHours   \n",
       "162                  3                         4             80  \\\n",
       "211                  4                         2             80   \n",
       "328                  3                         2             80   \n",
       "458                  3                         2             80   \n",
       "655                  3                         1             80   \n",
       "\n",
       "    StockOptionLevel  TotalWorkingYears  TrainingTimesLastYear   \n",
       "162                0                  5                      2  \\\n",
       "211                1                  6                      0   \n",
       "328                0                  5                      3   \n",
       "458                0                 10                      2   \n",
       "655                0                  6                      3   \n",
       "\n",
       "     WorkLifeBalance YearsAtCompany  YearsInCurrentRole   \n",
       "162                3              4                   2  \\\n",
       "211                3              6                   2   \n",
       "328                1              5                   4   \n",
       "458                3              9                   4   \n",
       "655                4              4                   3   \n",
       "\n",
       "    YearsSinceLastPromotion  \n",
       "162                       0  \n",
       "211                       0  \n",
       "328                       0  \n",
       "458                       1  \n",
       "655                       1  \n",
       "\n",
       "[5 rows x 37 columns]"
      ]
     },
     "execution_count": 90,
     "metadata": {},
     "output_type": "execute_result"
    }
   ],
   "source": [
    "duplicates.head()"
   ]
  },
  {
   "cell_type": "code",
   "execution_count": 91,
   "id": "327b1db3",
   "metadata": {},
   "outputs": [
    {
     "data": {
      "text/plain": [
       "10"
      ]
     },
     "execution_count": 91,
     "metadata": {},
     "output_type": "execute_result"
    }
   ],
   "source": [
    "len(duplicates)"
   ]
  },
  {
   "cell_type": "code",
   "execution_count": 92,
   "id": "0edfb64b",
   "metadata": {},
   "outputs": [],
   "source": [
    "df = df.drop_duplicates()"
   ]
  },
  {
   "cell_type": "code",
   "execution_count": 93,
   "id": "ae4f0edc",
   "metadata": {},
   "outputs": [
    {
     "data": {
      "text/plain": [
       "1470"
      ]
     },
     "execution_count": 93,
     "metadata": {},
     "output_type": "execute_result"
    }
   ],
   "source": [
    "len(df)"
   ]
  },
  {
   "cell_type": "code",
   "execution_count": 94,
   "id": "d9eff013",
   "metadata": {},
   "outputs": [
    {
     "data": {
      "text/plain": [
       "237"
      ]
     },
     "execution_count": 94,
     "metadata": {},
     "output_type": "execute_result"
    }
   ],
   "source": [
    "df['Attrition'].value_counts().get('Yes', 0)"
   ]
  },
  {
   "cell_type": "code",
   "execution_count": 95,
   "id": "2dc662eb",
   "metadata": {},
   "outputs": [],
   "source": [
    "AttritionRate = round((df['Attrition'].value_counts().get('Yes', 0)/len(df))*100,1)"
   ]
  },
  {
   "cell_type": "code",
   "execution_count": 96,
   "id": "5b37c5a0",
   "metadata": {},
   "outputs": [
    {
     "name": "stdout",
     "output_type": "stream",
     "text": [
      "16.1\n"
     ]
    }
   ],
   "source": [
    "print(AttritionRate)"
   ]
  },
  {
   "cell_type": "code",
   "execution_count": 97,
   "id": "9046720b",
   "metadata": {},
   "outputs": [
    {
     "data": {
      "text/plain": [
       "4787"
      ]
     },
     "execution_count": 97,
     "metadata": {},
     "output_type": "execute_result"
    }
   ],
   "source": [
    "round(df[df['Attrition'] == 'Yes']['MonthlyIncome'].mean())"
   ]
  },
  {
   "cell_type": "code",
   "execution_count": 98,
   "id": "ce49daf0",
   "metadata": {},
   "outputs": [
    {
     "name": "stdout",
     "output_type": "stream",
     "text": [
      "Average Salary of all employees = 6503\n"
     ]
    }
   ],
   "source": [
    "print(\"Average Salary of all employees =\",round(df['MonthlyIncome'].mean()))"
   ]
  },
  {
   "cell_type": "code",
   "execution_count": 99,
   "id": "0ff8a093",
   "metadata": {},
   "outputs": [
    {
     "data": {
      "text/plain": [
       "150"
      ]
     },
     "execution_count": 99,
     "metadata": {},
     "output_type": "execute_result"
    }
   ],
   "source": [
    "len(df[(df['Attrition'] == 'Yes') & (df['Gender'] == 'Male')])\n"
   ]
  },
  {
   "cell_type": "code",
   "execution_count": 100,
   "id": "db2af985",
   "metadata": {},
   "outputs": [
    {
     "data": {
      "text/plain": [
       "87"
      ]
     },
     "execution_count": 100,
     "metadata": {},
     "output_type": "execute_result"
    }
   ],
   "source": [
    "len(df[(df['Attrition'] == 'Yes') & (df['Gender'] == 'Female')])"
   ]
  },
  {
   "cell_type": "code",
   "execution_count": 101,
   "id": "8bc17cd5",
   "metadata": {},
   "outputs": [],
   "source": [
    "attrition_yes_jobrole_sum = df[df['Attrition'] == 'Yes'].groupby('JobRole').size()"
   ]
  },
  {
   "cell_type": "code",
   "execution_count": 102,
   "id": "16c67993",
   "metadata": {},
   "outputs": [
    {
     "name": "stdout",
     "output_type": "stream",
     "text": [
      "JobRole\n",
      "Healthcare Representative     9\n",
      "Human Resources              12\n",
      "Laboratory Technician        62\n",
      "Manager                       5\n",
      "Manufacturing Director       10\n",
      "Research Director             2\n",
      "Research Scientist           47\n",
      "Sales Executive              57\n",
      "Sales Representative         33\n",
      "dtype: int64\n"
     ]
    }
   ],
   "source": [
    "print(attrition_yes_jobrole_sum)"
   ]
  },
  {
   "cell_type": "code",
   "execution_count": 103,
   "id": "4e55b57e",
   "metadata": {},
   "outputs": [],
   "source": [
    "attrition_yes_AgeGroup_sum = df[df['Attrition'] == 'Yes'].groupby('AgeGroup').size()"
   ]
  },
  {
   "cell_type": "code",
   "execution_count": 104,
   "id": "7c44c4fa",
   "metadata": {},
   "outputs": [
    {
     "name": "stdout",
     "output_type": "stream",
     "text": [
      "AgeGroup\n",
      "18-25     44\n",
      "26-35    116\n",
      "36-45     43\n",
      "46-55     26\n",
      "55+        8\n",
      "dtype: int64\n"
     ]
    }
   ],
   "source": [
    "print(attrition_yes_AgeGroup_sum)"
   ]
  },
  {
   "cell_type": "code",
   "execution_count": null,
   "id": "b7aa1c4b",
   "metadata": {},
   "outputs": [],
   "source": []
  }
 ],
 "metadata": {
  "kernelspec": {
   "display_name": "Python 3 (ipykernel)",
   "language": "python",
   "name": "python3"
  },
  "language_info": {
   "codemirror_mode": {
    "name": "ipython",
    "version": 3
   },
   "file_extension": ".py",
   "mimetype": "text/x-python",
   "name": "python",
   "nbconvert_exporter": "python",
   "pygments_lexer": "ipython3",
   "version": "3.11.4"
  }
 },
 "nbformat": 4,
 "nbformat_minor": 5
}
